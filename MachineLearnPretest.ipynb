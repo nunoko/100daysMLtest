{
 "cells": [
  {
   "cell_type": "markdown",
   "metadata": {},
   "source": [
    "# Exercise 1"
   ]
  },
  {
   "cell_type": "markdown",
   "metadata": {},
   "source": [
    "**Simulate N coin flips and number of head and number of tail**"
   ]
  },
  {
   "cell_type": "code",
   "execution_count": 2,
   "metadata": {},
   "outputs": [],
   "source": [
    "import numpy as np"
   ]
  },
  {
   "cell_type": "code",
   "execution_count": 11,
   "metadata": {},
   "outputs": [],
   "source": [
    "def simulate_coin_flips(N,p):\n",
    "\thead =0\n",
    "\tfor i in range(N):\n",
    "\t\tif np.random.rand() < p:\n",
    "\t\t\thead +=1\n",
    "\treturn head,N-head"
   ]
  },
  {
   "cell_type": "code",
   "execution_count": 17,
   "metadata": {},
   "outputs": [
    {
     "data": {
      "text/plain": [
       "(3, 7)"
      ]
     },
     "execution_count": 17,
     "metadata": {},
     "output_type": "execute_result"
    }
   ],
   "source": [
    "simulate_coin_flips(10,0.3)"
   ]
  },
  {
   "cell_type": "markdown",
   "metadata": {},
   "source": [
    "# Exercise 2"
   ]
  },
  {
   "cell_type": "markdown",
   "metadata": {},
   "source": [
    "**Write a program to simulate data and answer this question:How many coin flips on average\n",
    "does it take to get n consecutive heads?**"
   ]
  },
  {
   "cell_type": "code",
   "execution_count": 19,
   "metadata": {},
   "outputs": [],
   "source": [
    "import numpy as np"
   ]
  },
  {
   "cell_type": "code",
   "execution_count": 44,
   "metadata": {},
   "outputs": [],
   "source": [
    "def average_coin_flips_unit_n_heads(n,p):\n",
    "\tlist_n = []\n",
    "\tfor i in range(1000):\n",
    "\t\tconsec_head = 0\n",
    "\t\tN=0\n",
    "\t\twhile True:\n",
    "\t\t\tN +=1\n",
    "\t\t\tif np.random.rand() < p:\n",
    "\t\t\t\tconsec_head += 1\n",
    "\t\t\telse:\n",
    "\t\t\t\tconsec_head = 0\n",
    "\t\t\tif consec_head == n:\n",
    "\t\t\t\tbreak;\n",
    "\t\tlist_n.append(N)\n",
    "\treturn np.array(list_n).mean()"
   ]
  },
  {
   "cell_type": "code",
   "execution_count": 46,
   "metadata": {},
   "outputs": [
    {
     "data": {
      "text/plain": [
       "61.485"
      ]
     },
     "execution_count": 46,
     "metadata": {},
     "output_type": "execute_result"
    }
   ],
   "source": [
    "average_coin_flips_unit_n_heads(5,0.5)"
   ]
  },
  {
   "cell_type": "markdown",
   "metadata": {},
   "source": [
    "# Exercise 3"
   ]
  },
  {
   "cell_type": "markdown",
   "metadata": {},
   "source": [
    "**Fit linear regression on the simulated data below and show that the filted parameters are\n",
    "correct**"
   ]
  },
  {
   "cell_type": "code",
   "execution_count": 48,
   "metadata": {},
   "outputs": [],
   "source": [
    "import numpy as np"
   ]
  },
  {
   "cell_type": "code",
   "execution_count": 49,
   "metadata": {},
   "outputs": [
    {
     "name": "stdout",
     "output_type": "stream",
     "text": [
      "[[ 2.23481430e-01  4.14802082e-01]\n",
      " [ 1.09174636e-01  1.45604520e+00]\n",
      " [-1.88013021e-01 -1.09352646e+00]\n",
      " [-7.83942187e-02  1.59957787e+00]\n",
      " [-9.17647853e-01  1.16395876e+00]\n",
      " [ 9.02656073e-01  8.35076338e-02]\n",
      " [ 1.44348932e+00  1.11556528e+00]\n",
      " [ 1.79281671e-01  1.69569729e+00]\n",
      " [ 2.40972364e+00 -1.29461487e+00]\n",
      " [ 9.99275922e-01  1.73922653e-01]\n",
      " [ 1.85143625e+00 -9.60285477e-01]\n",
      " [-4.36572175e-01  6.66720925e-01]\n",
      " [ 6.87892139e-01  1.59905291e+00]\n",
      " [ 1.41835826e-01  3.34615387e-01]\n",
      " [ 1.10699858e+00 -1.67576440e+00]\n",
      " [ 6.56533335e-01 -3.33687587e-01]\n",
      " [ 4.23218060e-01  1.10237616e-01]\n",
      " [-2.38007083e-03  3.30281465e-01]\n",
      " [-1.45696387e+00 -7.39252013e-02]\n",
      " [ 9.55305854e-02  2.41197823e-01]\n",
      " [ 1.22386599e-01 -1.80901290e+00]\n",
      " [-9.89469122e-01  2.77919073e-01]\n",
      " [ 1.32746971e-01  7.12021369e-01]\n",
      " [-8.87739671e-01 -7.63670320e-01]\n",
      " [-2.84150936e-01 -1.36573954e+00]\n",
      " [-1.55392675e+00  4.99706067e-01]\n",
      " [-1.55525202e+00 -2.30570120e-01]\n",
      " [ 9.05647461e-01 -3.45260790e-01]\n",
      " [ 6.48401742e-02  7.25460317e-01]\n",
      " [-2.78886811e+00  1.06421547e-01]\n",
      " [ 8.22214800e-01  2.77879334e-01]\n",
      " [ 2.98210514e-01 -1.11959754e-01]\n",
      " [-8.47275076e-01  1.58678612e+00]\n",
      " [-5.93450239e-01  2.95252892e-01]\n",
      " [-5.39004009e-01 -5.17389965e-01]\n",
      " [ 1.35212933e-01 -1.10556467e+00]\n",
      " [ 1.39922028e-01 -2.61238559e-01]\n",
      " [ 3.18053062e-01 -2.13876483e+00]\n",
      " [-4.57236393e-01 -1.47282160e+00]\n",
      " [ 7.55082443e-01  2.74861277e+00]\n",
      " [ 1.22361963e+00 -1.27371001e+00]\n",
      " [-9.47868802e-01 -9.28529910e-01]\n",
      " [ 2.03828934e-01 -7.82889716e-01]\n",
      " [ 5.31830624e-01 -1.88488146e+00]\n",
      " [ 4.38713719e-01 -7.85638188e-01]\n",
      " [ 1.73210385e-01  1.06886400e+00]\n",
      " [ 1.04624684e+00  9.97640852e-01]\n",
      " [-1.81571736e-02 -1.18766447e-01]\n",
      " [-1.20970947e+00 -1.93667903e-01]\n",
      " [ 2.68187865e-01 -7.35273569e-01]\n",
      " [-2.22940527e-02 -1.85760109e-01]\n",
      " [ 1.91296930e+00 -3.59862259e-02]\n",
      " [ 7.32408367e-01  5.29861885e-01]\n",
      " [ 4.73738187e-02  6.70982718e-01]\n",
      " [ 2.58341307e-01 -1.74161180e+00]\n",
      " [ 1.13472717e+00  1.26324051e+00]\n",
      " [ 1.61433579e-01  3.81216881e-01]\n",
      " [ 4.67425448e-01 -1.55454888e+00]\n",
      " [ 1.28808398e+00  2.78826287e-01]\n",
      " [ 7.04589688e-01 -2.30263059e-01]\n",
      " [ 1.02741127e+00  3.61237839e-01]\n",
      " [ 3.54978577e-01  5.00320601e-02]\n",
      " [ 1.63167080e+00  6.22101581e-01]\n",
      " [ 1.59639957e+00 -6.16348399e-02]\n",
      " [ 5.41278530e-01  1.11140645e+00]\n",
      " [-1.71476053e-02  6.84296793e-01]\n",
      " [-2.98504890e-01 -2.21236939e+00]\n",
      " [-2.93463083e-01  2.22882087e-02]\n",
      " [ 3.41799393e-01  1.30803163e+00]\n",
      " [ 3.00442149e-02 -1.15200190e+00]\n",
      " [-1.03081174e+00 -7.54771634e-01]\n",
      " [ 1.04117452e+00  1.42928339e+00]\n",
      " [ 9.05519563e-01 -2.66752394e-01]\n",
      " [-1.95758784e-01 -4.23291946e-01]\n",
      " [ 2.04604758e-01  1.43338601e-01]\n",
      " [-1.22840223e+00  1.28934709e+00]\n",
      " [ 1.32646844e+00 -1.93977752e-01]\n",
      " [ 3.87682036e-03  9.79354031e-01]\n",
      " [-2.17944222e+00  3.24478603e-01]\n",
      " [-2.33702598e+00 -4.34274163e-01]\n",
      " [ 9.01285841e-01  3.87852774e-01]\n",
      " [-1.32004004e+00  2.33201052e+00]\n",
      " [ 7.12549862e-02 -1.90222412e+00]\n",
      " [ 1.17993857e+00  3.83437097e-01]\n",
      " [-2.25842353e-01  1.50340591e+00]\n",
      " [ 3.06328489e-01  2.12462969e+00]\n",
      " [-3.26362551e-01 -2.62573631e+00]\n",
      " [ 6.55230425e-01  2.26470589e-01]\n",
      " [-4.27349117e-01  4.14967965e-02]\n",
      " [ 2.66206855e-01 -8.01764191e-02]\n",
      " [ 1.58100937e+00 -7.68616635e-01]\n",
      " [-1.33781423e+00  9.88383860e-02]\n",
      " [ 6.26552247e-01 -4.35089438e-01]\n",
      " [ 1.83412941e-01 -1.85904268e-01]\n",
      " [ 4.02192291e-02  6.43510896e-01]\n",
      " [-1.97919010e-01 -4.42848566e-01]\n",
      " [-8.40644284e-01 -2.10232972e+00]\n",
      " [-1.67037095e+00  1.46595421e-01]\n",
      " [-3.04131762e-01  1.01362642e+00]\n",
      " [-1.20636641e+00 -1.10050627e+00]]\n",
      "[  6.7444547   11.60774991  -2.03167134  11.76270668   7.06685022\n",
      "   7.12550639  13.90829438  13.01633146   4.75609659   7.86744103\n",
      "   4.75288135   6.0238881   14.05894097   6.09858441  -1.05782627\n",
      "   4.30116207   5.82084226   5.64426711  -0.7405176    5.49258087\n",
      "  -4.67790472   2.421188     7.95834776  -2.48157061  -3.68115049\n",
      "   1.83675009  -1.81860666   4.99063843   7.82182211  -3.83449661\n",
      "   7.85604107   4.33483277   9.39210536   3.69591374  -0.20396185\n",
      "  -1.12218457   3.11357329  -5.73966497  -4.73581715  20.00831119\n",
      "   1.30230885  -3.48625595   0.69703822  -3.82891544   1.38795022\n",
      "   9.86395118  12.12694476   3.35169624  -0.59746791   1.12819575\n",
      "   3.0043173    9.55897678   8.84653453   7.49703504  -3.93303506\n",
      "  13.72038407   6.39038514  -2.37046806   9.25838337   4.96245377\n",
      "   8.88842299   5.31509603  12.0055203    8.48102452  11.18086785\n",
      "   7.37004115  -7.95736163   3.2310518   11.56555634  -1.66987688\n",
      "  -2.86629339  14.26994049   5.38279672   1.29626392   5.33050728\n",
      "   6.76152874   7.00951656   8.90840062  -0.91593364  -5.18244877\n",
      "   8.64312139  11.69993248  -5.29735565   9.4570012   10.83950249\n",
      "  15.5421339  -10.10776918   7.09804422   2.92543663   4.39773847\n",
      "   4.89994495   0.48074925   3.70420955   3.62071748   7.33821217\n",
      "   1.19200014  -9.03358145  -0.27813573   8.15573681  -5.12163058]\n"
     ]
    }
   ],
   "source": [
    "x = np.random.normal(size=[100,2])\n",
    "y = 4+3 *x[:,0]+5*x[:,1]\n",
    "\n",
    "print(x)\n",
    "print(y)"
   ]
  },
  {
   "cell_type": "code",
   "execution_count": 52,
   "metadata": {},
   "outputs": [
    {
     "name": "stdout",
     "output_type": "stream",
     "text": [
      "[3. 5.]\n",
      "4.0\n"
     ]
    }
   ],
   "source": [
    "from sklearn import linear_model\n",
    "reg = linear_model.LinearRegression()\n",
    "reg.fit(x,y)\n",
    "print(reg.coef_)\n",
    "print(reg.intercept_)"
   ]
  },
  {
   "cell_type": "markdown",
   "metadata": {},
   "source": [
    "# Excercise 4"
   ]
  },
  {
   "cell_type": "markdown",
   "metadata": {},
   "source": [
    "**Given credit card fraud data below, fit a classfication model on the trainData and\n",
    "evaluate the model on the testData using Area under curve of ROC (AUC)as a metric**\n",
    " \n",
    " \n",
    "**The label column is \"Class\" and other columns are anonymized features**\n",
    "\n",
    "**The data is sample from this dataset\n",
    "https://www.kaggle.com/mlg-ulb/creditcardfraud**"
   ]
  },
  {
   "cell_type": "code",
   "execution_count": 53,
   "metadata": {},
   "outputs": [],
   "source": [
    "import pandas as pd"
   ]
  },
  {
   "cell_type": "code",
   "execution_count": 75,
   "metadata": {},
   "outputs": [],
   "source": [
    "trainData = pd.read_csv('trainData.csv')"
   ]
  },
  {
   "cell_type": "code",
   "execution_count": 76,
   "metadata": {},
   "outputs": [],
   "source": [
    "testData = pd.read_csv('testData.csv')"
   ]
  },
  {
   "cell_type": "code",
   "execution_count": 86,
   "metadata": {},
   "outputs": [
    {
     "name": "stderr",
     "output_type": "stream",
     "text": [
      "C:\\Users\\HP\\Anaconda3\\lib\\site-packages\\ipykernel_launcher.py:5: DeprecationWarning: \n",
      ".ix is deprecated. Please use\n",
      ".loc for label based indexing or\n",
      ".iloc for positional indexing\n",
      "\n",
      "See the documentation here:\n",
      "http://pandas.pydata.org/pandas-docs/stable/indexing.html#ix-indexer-is-deprecated\n",
      "  \"\"\"\n",
      "C:\\Users\\HP\\Anaconda3\\lib\\site-packages\\ipykernel_launcher.py:6: DeprecationWarning: \n",
      ".ix is deprecated. Please use\n",
      ".loc for label based indexing or\n",
      ".iloc for positional indexing\n",
      "\n",
      "See the documentation here:\n",
      "http://pandas.pydata.org/pandas-docs/stable/indexing.html#ix-indexer-is-deprecated\n",
      "  \n",
      "C:\\Users\\HP\\Anaconda3\\lib\\site-packages\\ipykernel_launcher.py:8: DeprecationWarning: \n",
      ".ix is deprecated. Please use\n",
      ".loc for label based indexing or\n",
      ".iloc for positional indexing\n",
      "\n",
      "See the documentation here:\n",
      "http://pandas.pydata.org/pandas-docs/stable/indexing.html#ix-indexer-is-deprecated\n",
      "  \n",
      "C:\\Users\\HP\\Anaconda3\\lib\\site-packages\\sklearn\\linear_model\\logistic.py:433: FutureWarning: Default solver will be changed to 'lbfgs' in 0.22. Specify a solver to silence this warning.\n",
      "  FutureWarning)\n"
     ]
    },
    {
     "ename": "ValueError",
     "evalue": "Unknown label type: 'continuous'",
     "output_type": "error",
     "traceback": [
      "\u001b[1;31m---------------------------------------------------------------------------\u001b[0m",
      "\u001b[1;31mValueError\u001b[0m                                Traceback (most recent call last)",
      "\u001b[1;32m<ipython-input-86-a772c28002e5>\u001b[0m in \u001b[0;36m<module>\u001b[1;34m\u001b[0m\n\u001b[0;32m      8\u001b[0m \u001b[0mx_test\u001b[0m \u001b[1;33m=\u001b[0m \u001b[0mtestData\u001b[0m\u001b[1;33m.\u001b[0m\u001b[0mix\u001b[0m\u001b[1;33m[\u001b[0m\u001b[1;33m:\u001b[0m\u001b[1;33m,\u001b[0m\u001b[1;33m:\u001b[0m\u001b[1;33m-\u001b[0m\u001b[1;36m1\u001b[0m\u001b[1;33m]\u001b[0m\u001b[1;33m.\u001b[0m\u001b[0mastype\u001b[0m\u001b[1;33m(\u001b[0m\u001b[0mnp\u001b[0m\u001b[1;33m.\u001b[0m\u001b[0mfloat32\u001b[0m\u001b[1;33m)\u001b[0m\u001b[1;33m\u001b[0m\u001b[1;33m\u001b[0m\u001b[0m\n\u001b[0;32m      9\u001b[0m \u001b[1;33m\u001b[0m\u001b[0m\n\u001b[1;32m---> 10\u001b[1;33m \u001b[0mreg\u001b[0m\u001b[1;33m.\u001b[0m\u001b[0mfit\u001b[0m\u001b[1;33m(\u001b[0m\u001b[0mx\u001b[0m\u001b[1;33m,\u001b[0m\u001b[0my\u001b[0m\u001b[1;33m)\u001b[0m\u001b[1;33m\u001b[0m\u001b[1;33m\u001b[0m\u001b[0m\n\u001b[0m\u001b[0;32m     11\u001b[0m \u001b[0my_scores\u001b[0m \u001b[1;33m=\u001b[0m \u001b[0mreg\u001b[0m\u001b[1;33m.\u001b[0m\u001b[0mpredit_proba\u001b[0m\u001b[1;33m(\u001b[0m\u001b[0mx_test\u001b[0m\u001b[1;33m)\u001b[0m\u001b[1;33m[\u001b[0m\u001b[1;33m:\u001b[0m\u001b[1;33m,\u001b[0m\u001b[1;36m1\u001b[0m\u001b[1;33m]\u001b[0m\u001b[1;33m\u001b[0m\u001b[1;33m\u001b[0m\u001b[0m\n\u001b[0;32m     12\u001b[0m \u001b[0my_true\u001b[0m \u001b[1;33m=\u001b[0m \u001b[0mtestData\u001b[0m\u001b[1;33m.\u001b[0m\u001b[0mix\u001b[0m\u001b[1;33m[\u001b[0m\u001b[1;33m:\u001b[0m\u001b[1;33m,\u001b[0m\u001b[1;33m-\u001b[0m\u001b[1;36m1\u001b[0m\u001b[1;33m]\u001b[0m\u001b[1;33m.\u001b[0m\u001b[0mastype\u001b[0m\u001b[1;33m(\u001b[0m\u001b[0mnp\u001b[0m\u001b[1;33m.\u001b[0m\u001b[0mfloat32\u001b[0m\u001b[1;33m)\u001b[0m\u001b[1;33m\u001b[0m\u001b[1;33m\u001b[0m\u001b[0m\n",
      "\u001b[1;32m~\\Anaconda3\\lib\\site-packages\\sklearn\\linear_model\\logistic.py\u001b[0m in \u001b[0;36mfit\u001b[1;34m(self, X, y, sample_weight)\u001b[0m\n\u001b[0;32m   1287\u001b[0m         X, y = check_X_y(X, y, accept_sparse='csr', dtype=_dtype, order=\"C\",\n\u001b[0;32m   1288\u001b[0m                          accept_large_sparse=solver != 'liblinear')\n\u001b[1;32m-> 1289\u001b[1;33m         \u001b[0mcheck_classification_targets\u001b[0m\u001b[1;33m(\u001b[0m\u001b[0my\u001b[0m\u001b[1;33m)\u001b[0m\u001b[1;33m\u001b[0m\u001b[1;33m\u001b[0m\u001b[0m\n\u001b[0m\u001b[0;32m   1290\u001b[0m         \u001b[0mself\u001b[0m\u001b[1;33m.\u001b[0m\u001b[0mclasses_\u001b[0m \u001b[1;33m=\u001b[0m \u001b[0mnp\u001b[0m\u001b[1;33m.\u001b[0m\u001b[0munique\u001b[0m\u001b[1;33m(\u001b[0m\u001b[0my\u001b[0m\u001b[1;33m)\u001b[0m\u001b[1;33m\u001b[0m\u001b[1;33m\u001b[0m\u001b[0m\n\u001b[0;32m   1291\u001b[0m         \u001b[0mn_samples\u001b[0m\u001b[1;33m,\u001b[0m \u001b[0mn_features\u001b[0m \u001b[1;33m=\u001b[0m \u001b[0mX\u001b[0m\u001b[1;33m.\u001b[0m\u001b[0mshape\u001b[0m\u001b[1;33m\u001b[0m\u001b[1;33m\u001b[0m\u001b[0m\n",
      "\u001b[1;32m~\\Anaconda3\\lib\\site-packages\\sklearn\\utils\\multiclass.py\u001b[0m in \u001b[0;36mcheck_classification_targets\u001b[1;34m(y)\u001b[0m\n\u001b[0;32m    169\u001b[0m     if y_type not in ['binary', 'multiclass', 'multiclass-multioutput',\n\u001b[0;32m    170\u001b[0m                       'multilabel-indicator', 'multilabel-sequences']:\n\u001b[1;32m--> 171\u001b[1;33m         \u001b[1;32mraise\u001b[0m \u001b[0mValueError\u001b[0m\u001b[1;33m(\u001b[0m\u001b[1;34m\"Unknown label type: %r\"\u001b[0m \u001b[1;33m%\u001b[0m \u001b[0my_type\u001b[0m\u001b[1;33m)\u001b[0m\u001b[1;33m\u001b[0m\u001b[1;33m\u001b[0m\u001b[0m\n\u001b[0m\u001b[0;32m    172\u001b[0m \u001b[1;33m\u001b[0m\u001b[0m\n\u001b[0;32m    173\u001b[0m \u001b[1;33m\u001b[0m\u001b[0m\n",
      "\u001b[1;31mValueError\u001b[0m: Unknown label type: 'continuous'"
     ]
    }
   ],
   "source": [
    "from sklearn import linear_model\n",
    "from sklearn.metrics import roc_auc_score\n",
    "\n",
    "reg = linear_model.LogisticRegression()\n",
    "x_train = trainData.ix[:,:-1].astype(np.float32)\n",
    "y_train = trainData.ix[:,-1].astype(np.float32)\n",
    "\n",
    "x_test = testData.ix[:,:-1].astype(np.float32)\n",
    "\n",
    "reg.fit(x,y)\n",
    "y_scores = reg.predit_proba(x_test)[:,1]\n",
    "y_true = testData.ix[:,-1].astype(np.float32)\n",
    "\n",
    "roc_auc_score(y_true,y_scores)\n"
   ]
  },
  {
   "cell_type": "code",
   "execution_count": null,
   "metadata": {},
   "outputs": [],
   "source": []
  },
  {
   "cell_type": "code",
   "execution_count": null,
   "metadata": {},
   "outputs": [],
   "source": []
  }
 ],
 "metadata": {
  "kernelspec": {
   "display_name": "Python 3",
   "language": "python",
   "name": "python3"
  },
  "language_info": {
   "codemirror_mode": {
    "name": "ipython",
    "version": 3
   },
   "file_extension": ".py",
   "mimetype": "text/x-python",
   "name": "python",
   "nbconvert_exporter": "python",
   "pygments_lexer": "ipython3",
   "version": "3.7.3"
  }
 },
 "nbformat": 4,
 "nbformat_minor": 2
}
